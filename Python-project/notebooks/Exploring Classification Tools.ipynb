{
 "cells": [
  {
   "cell_type": "code",
   "execution_count": 2,
   "metadata": {
    "collapsed": false,
    "scrolled": true
   },
   "outputs": [],
   "source": [
    "%matplotlib inline\n",
    "import pandas as pd\n",
    "import numpy as np\n",
    "import matplotlib.pyplot as plt\n",
    "from sklearn.linear_model import LogisticRegression, LogisticRegressionCV\n",
    "from sklearn.cross_validation import train_test_split, cross_val_score, KFold\n",
    "from sklearn.svm import SVC\n",
    "from sklearn.ensemble import RandomForestClassifier\n",
    "from sklearn import metrics\n",
    "from patsy import dmatrices"
   ]
  },
  {
   "cell_type": "markdown",
   "metadata": {},
   "source": [
    "# Loading & Cleaning the Data"
   ]
  },
  {
   "cell_type": "markdown",
   "metadata": {},
   "source": [
    "Currently working with mostly previously cleaned up feature data generated in R."
   ]
  },
  {
   "cell_type": "code",
   "execution_count": 37,
   "metadata": {
    "collapsed": false,
    "scrolled": true
   },
   "outputs": [],
   "source": [
    "df = pd.read_csv(\"../../data/njt_features.csv\")"
   ]
  },
  {
   "cell_type": "code",
   "execution_count": 38,
   "metadata": {
    "collapsed": false,
    "scrolled": true
   },
   "outputs": [],
   "source": [
    "keep_columns = ['is_delayed','dep_hour', 'ttl_line', 'ttl_dep_line', 'Visibility', 'Temp_F',\n",
    "                'WindSpeed', 'HourlyPrecip', 'Line','dep_wday', 'Scheduled_Departure_Terminal',]\n",
    "feat = df[keep_columns].dropna()"
   ]
  },
  {
   "cell_type": "code",
   "execution_count": 39,
   "metadata": {
    "collapsed": false,
    "scrolled": true
   },
   "outputs": [],
   "source": [
    "y, X = dmatrices('is_delayed ~ ttl_line + Visibility + Temp_F + WindSpeed + HourlyPrecip + '\n",
    "                 'C(dep_hour) + C(Line) + C(dep_wday)',\n",
    "feat, return_type = \"dataframe\")\n",
    "y = np.ravel(y.iloc[:,1:])"
   ]
  },
  {
   "cell_type": "markdown",
   "metadata": {},
   "source": [
    "# Logistic Regression  \n",
    "Help from a very useful example: http://localhost:8889/notebooks/Reference/kevin_logistic_sklearn.ipynb"
   ]
  },
  {
   "cell_type": "markdown",
   "metadata": {},
   "source": [
    "## Using All Data"
   ]
  },
  {
   "cell_type": "code",
   "execution_count": 5,
   "metadata": {
    "collapsed": false
   },
   "outputs": [
    {
     "data": {
      "text/plain": [
       "0.66449298989240302"
      ]
     },
     "execution_count": 5,
     "metadata": {},
     "output_type": "execute_result"
    }
   ],
   "source": [
    "model = LogisticRegression()\n",
    "model = model.fit(X, y)\n",
    "# check the accuracy on the training set\n",
    "model.score(X, y)"
   ]
  },
  {
   "cell_type": "code",
   "execution_count": 6,
   "metadata": {
    "collapsed": false,
    "scrolled": true
   },
   "outputs": [
    {
     "data": {
      "text/html": [
       "<div>\n",
       "<table border=\"1\" class=\"dataframe\">\n",
       "  <thead>\n",
       "    <tr style=\"text-align: right;\">\n",
       "      <th></th>\n",
       "      <th>0</th>\n",
       "      <th>1</th>\n",
       "    </tr>\n",
       "  </thead>\n",
       "  <tbody>\n",
       "    <tr>\n",
       "      <th>0</th>\n",
       "      <td>Intercept</td>\n",
       "      <td>[0.253908899368]</td>\n",
       "    </tr>\n",
       "    <tr>\n",
       "      <th>1</th>\n",
       "      <td>C(dep_hour)[T.1]</td>\n",
       "      <td>[2.15253735384]</td>\n",
       "    </tr>\n",
       "    <tr>\n",
       "      <th>2</th>\n",
       "      <td>C(dep_hour)[T.2]</td>\n",
       "      <td>[0.179945913488]</td>\n",
       "    </tr>\n",
       "    <tr>\n",
       "      <th>3</th>\n",
       "      <td>C(dep_hour)[T.3]</td>\n",
       "      <td>[-0.188548148654]</td>\n",
       "    </tr>\n",
       "    <tr>\n",
       "      <th>4</th>\n",
       "      <td>C(dep_hour)[T.4]</td>\n",
       "      <td>[1.51979361551]</td>\n",
       "    </tr>\n",
       "    <tr>\n",
       "      <th>5</th>\n",
       "      <td>C(dep_hour)[T.5]</td>\n",
       "      <td>[-1.19802740011]</td>\n",
       "    </tr>\n",
       "    <tr>\n",
       "      <th>6</th>\n",
       "      <td>C(dep_hour)[T.6]</td>\n",
       "      <td>[-1.15989123133]</td>\n",
       "    </tr>\n",
       "    <tr>\n",
       "      <th>7</th>\n",
       "      <td>C(dep_hour)[T.7]</td>\n",
       "      <td>[-1.07310437815]</td>\n",
       "    </tr>\n",
       "    <tr>\n",
       "      <th>8</th>\n",
       "      <td>C(dep_hour)[T.8]</td>\n",
       "      <td>[-0.532963272954]</td>\n",
       "    </tr>\n",
       "    <tr>\n",
       "      <th>9</th>\n",
       "      <td>C(dep_hour)[T.9]</td>\n",
       "      <td>[-0.0724419610392]</td>\n",
       "    </tr>\n",
       "    <tr>\n",
       "      <th>10</th>\n",
       "      <td>C(dep_hour)[T.10]</td>\n",
       "      <td>[-0.221828133376]</td>\n",
       "    </tr>\n",
       "    <tr>\n",
       "      <th>11</th>\n",
       "      <td>C(dep_hour)[T.11]</td>\n",
       "      <td>[-0.0338398095273]</td>\n",
       "    </tr>\n",
       "    <tr>\n",
       "      <th>12</th>\n",
       "      <td>C(dep_hour)[T.12]</td>\n",
       "      <td>[-0.111044697798]</td>\n",
       "    </tr>\n",
       "    <tr>\n",
       "      <th>13</th>\n",
       "      <td>C(dep_hour)[T.13]</td>\n",
       "      <td>[-0.0246848192503]</td>\n",
       "    </tr>\n",
       "    <tr>\n",
       "      <th>14</th>\n",
       "      <td>C(dep_hour)[T.14]</td>\n",
       "      <td>[0.562694914257]</td>\n",
       "    </tr>\n",
       "    <tr>\n",
       "      <th>15</th>\n",
       "      <td>C(dep_hour)[T.15]</td>\n",
       "      <td>[-0.514553642346]</td>\n",
       "    </tr>\n",
       "    <tr>\n",
       "      <th>16</th>\n",
       "      <td>C(dep_hour)[T.16]</td>\n",
       "      <td>[-0.910778844604]</td>\n",
       "    </tr>\n",
       "    <tr>\n",
       "      <th>17</th>\n",
       "      <td>C(dep_hour)[T.17]</td>\n",
       "      <td>[-0.398129302837]</td>\n",
       "    </tr>\n",
       "    <tr>\n",
       "      <th>18</th>\n",
       "      <td>C(dep_hour)[T.18]</td>\n",
       "      <td>[-0.662316670614]</td>\n",
       "    </tr>\n",
       "    <tr>\n",
       "      <th>19</th>\n",
       "      <td>C(dep_hour)[T.19]</td>\n",
       "      <td>[-0.503203666655]</td>\n",
       "    </tr>\n",
       "    <tr>\n",
       "      <th>20</th>\n",
       "      <td>C(dep_hour)[T.20]</td>\n",
       "      <td>[-0.354775075825]</td>\n",
       "    </tr>\n",
       "    <tr>\n",
       "      <th>21</th>\n",
       "      <td>C(dep_hour)[T.21]</td>\n",
       "      <td>[0.283221643358]</td>\n",
       "    </tr>\n",
       "    <tr>\n",
       "      <th>22</th>\n",
       "      <td>C(dep_hour)[T.22]</td>\n",
       "      <td>[-0.140492890129]</td>\n",
       "    </tr>\n",
       "    <tr>\n",
       "      <th>23</th>\n",
       "      <td>C(dep_hour)[T.23]</td>\n",
       "      <td>[0.915796716859]</td>\n",
       "    </tr>\n",
       "    <tr>\n",
       "      <th>24</th>\n",
       "      <td>C(Line)[T.ATLANTIC_CITY]</td>\n",
       "      <td>[0.15845285483]</td>\n",
       "    </tr>\n",
       "    <tr>\n",
       "      <th>25</th>\n",
       "      <td>C(Line)[T.BERGEN]</td>\n",
       "      <td>[0.200763602126]</td>\n",
       "    </tr>\n",
       "    <tr>\n",
       "      <th>26</th>\n",
       "      <td>C(Line)[T.BOONTON]</td>\n",
       "      <td>[0.242702835878]</td>\n",
       "    </tr>\n",
       "    <tr>\n",
       "      <th>27</th>\n",
       "      <td>C(Line)[T.COAST]</td>\n",
       "      <td>[-0.365740150851]</td>\n",
       "    </tr>\n",
       "    <tr>\n",
       "      <th>28</th>\n",
       "      <td>C(Line)[T.CORRIDOR]</td>\n",
       "      <td>[-0.613377528601]</td>\n",
       "    </tr>\n",
       "    <tr>\n",
       "      <th>29</th>\n",
       "      <td>C(Line)[T.DOVER]</td>\n",
       "      <td>[-0.0870969961096]</td>\n",
       "    </tr>\n",
       "    <tr>\n",
       "      <th>30</th>\n",
       "      <td>C(Line)[T.GLADSTONE]</td>\n",
       "      <td>[-0.0998582026347]</td>\n",
       "    </tr>\n",
       "    <tr>\n",
       "      <th>31</th>\n",
       "      <td>C(Line)[T.MAIN]</td>\n",
       "      <td>[0.204629002287]</td>\n",
       "    </tr>\n",
       "    <tr>\n",
       "      <th>32</th>\n",
       "      <td>C(Line)[T.MONTCLAIR]</td>\n",
       "      <td>[0.0170082675855]</td>\n",
       "    </tr>\n",
       "    <tr>\n",
       "      <th>33</th>\n",
       "      <td>C(Line)[T.PASCACK]</td>\n",
       "      <td>[0.197841314817]</td>\n",
       "    </tr>\n",
       "    <tr>\n",
       "      <th>34</th>\n",
       "      <td>C(Line)[T.RARITAN]</td>\n",
       "      <td>[-0.333580087775]</td>\n",
       "    </tr>\n",
       "    <tr>\n",
       "      <th>35</th>\n",
       "      <td>C(Line)[T.S._TIER]</td>\n",
       "      <td>[0.194217594173]</td>\n",
       "    </tr>\n",
       "    <tr>\n",
       "      <th>36</th>\n",
       "      <td>C(Line)[T.SUMMIT]</td>\n",
       "      <td>[0.264319409168]</td>\n",
       "    </tr>\n",
       "    <tr>\n",
       "      <th>37</th>\n",
       "      <td>C(Line)[T.WALDWICK]</td>\n",
       "      <td>[0.220251721473]</td>\n",
       "    </tr>\n",
       "    <tr>\n",
       "      <th>38</th>\n",
       "      <td>C(dep_wday)[T.Mon]</td>\n",
       "      <td>[0.162738081289]</td>\n",
       "    </tr>\n",
       "    <tr>\n",
       "      <th>39</th>\n",
       "      <td>C(dep_wday)[T.Sat]</td>\n",
       "      <td>[-0.224224912726]</td>\n",
       "    </tr>\n",
       "    <tr>\n",
       "      <th>40</th>\n",
       "      <td>C(dep_wday)[T.Sun]</td>\n",
       "      <td>[-0.220443511089]</td>\n",
       "    </tr>\n",
       "    <tr>\n",
       "      <th>41</th>\n",
       "      <td>C(dep_wday)[T.Thurs]</td>\n",
       "      <td>[0.1153957699]</td>\n",
       "    </tr>\n",
       "    <tr>\n",
       "      <th>42</th>\n",
       "      <td>C(dep_wday)[T.Tues]</td>\n",
       "      <td>[0.138748569882]</td>\n",
       "    </tr>\n",
       "    <tr>\n",
       "      <th>43</th>\n",
       "      <td>C(dep_wday)[T.Wed]</td>\n",
       "      <td>[0.138236364073]</td>\n",
       "    </tr>\n",
       "    <tr>\n",
       "      <th>44</th>\n",
       "      <td>ttl_line</td>\n",
       "      <td>[-4.51329654988e-05]</td>\n",
       "    </tr>\n",
       "    <tr>\n",
       "      <th>45</th>\n",
       "      <td>Visibility</td>\n",
       "      <td>[-0.00614529064545]</td>\n",
       "    </tr>\n",
       "    <tr>\n",
       "      <th>46</th>\n",
       "      <td>Temp_F</td>\n",
       "      <td>[0.000778307336691]</td>\n",
       "    </tr>\n",
       "    <tr>\n",
       "      <th>47</th>\n",
       "      <td>WindSpeed</td>\n",
       "      <td>[0.0100585338152]</td>\n",
       "    </tr>\n",
       "    <tr>\n",
       "      <th>48</th>\n",
       "      <td>HourlyPrecip</td>\n",
       "      <td>[0.0136220423793]</td>\n",
       "    </tr>\n",
       "  </tbody>\n",
       "</table>\n",
       "</div>"
      ],
      "text/plain": [
       "                           0                     1\n",
       "0                  Intercept      [0.253908899368]\n",
       "1           C(dep_hour)[T.1]       [2.15253735384]\n",
       "2           C(dep_hour)[T.2]      [0.179945913488]\n",
       "3           C(dep_hour)[T.3]     [-0.188548148654]\n",
       "4           C(dep_hour)[T.4]       [1.51979361551]\n",
       "5           C(dep_hour)[T.5]      [-1.19802740011]\n",
       "6           C(dep_hour)[T.6]      [-1.15989123133]\n",
       "7           C(dep_hour)[T.7]      [-1.07310437815]\n",
       "8           C(dep_hour)[T.8]     [-0.532963272954]\n",
       "9           C(dep_hour)[T.9]    [-0.0724419610392]\n",
       "10         C(dep_hour)[T.10]     [-0.221828133376]\n",
       "11         C(dep_hour)[T.11]    [-0.0338398095273]\n",
       "12         C(dep_hour)[T.12]     [-0.111044697798]\n",
       "13         C(dep_hour)[T.13]    [-0.0246848192503]\n",
       "14         C(dep_hour)[T.14]      [0.562694914257]\n",
       "15         C(dep_hour)[T.15]     [-0.514553642346]\n",
       "16         C(dep_hour)[T.16]     [-0.910778844604]\n",
       "17         C(dep_hour)[T.17]     [-0.398129302837]\n",
       "18         C(dep_hour)[T.18]     [-0.662316670614]\n",
       "19         C(dep_hour)[T.19]     [-0.503203666655]\n",
       "20         C(dep_hour)[T.20]     [-0.354775075825]\n",
       "21         C(dep_hour)[T.21]      [0.283221643358]\n",
       "22         C(dep_hour)[T.22]     [-0.140492890129]\n",
       "23         C(dep_hour)[T.23]      [0.915796716859]\n",
       "24  C(Line)[T.ATLANTIC_CITY]       [0.15845285483]\n",
       "25         C(Line)[T.BERGEN]      [0.200763602126]\n",
       "26        C(Line)[T.BOONTON]      [0.242702835878]\n",
       "27          C(Line)[T.COAST]     [-0.365740150851]\n",
       "28       C(Line)[T.CORRIDOR]     [-0.613377528601]\n",
       "29          C(Line)[T.DOVER]    [-0.0870969961096]\n",
       "30      C(Line)[T.GLADSTONE]    [-0.0998582026347]\n",
       "31           C(Line)[T.MAIN]      [0.204629002287]\n",
       "32      C(Line)[T.MONTCLAIR]     [0.0170082675855]\n",
       "33        C(Line)[T.PASCACK]      [0.197841314817]\n",
       "34        C(Line)[T.RARITAN]     [-0.333580087775]\n",
       "35        C(Line)[T.S._TIER]      [0.194217594173]\n",
       "36         C(Line)[T.SUMMIT]      [0.264319409168]\n",
       "37       C(Line)[T.WALDWICK]      [0.220251721473]\n",
       "38        C(dep_wday)[T.Mon]      [0.162738081289]\n",
       "39        C(dep_wday)[T.Sat]     [-0.224224912726]\n",
       "40        C(dep_wday)[T.Sun]     [-0.220443511089]\n",
       "41      C(dep_wday)[T.Thurs]        [0.1153957699]\n",
       "42       C(dep_wday)[T.Tues]      [0.138748569882]\n",
       "43        C(dep_wday)[T.Wed]      [0.138236364073]\n",
       "44                  ttl_line  [-4.51329654988e-05]\n",
       "45                Visibility   [-0.00614529064545]\n",
       "46                    Temp_F   [0.000778307336691]\n",
       "47                 WindSpeed     [0.0100585338152]\n",
       "48              HourlyPrecip     [0.0136220423793]"
      ]
     },
     "execution_count": 6,
     "metadata": {},
     "output_type": "execute_result"
    }
   ],
   "source": [
    "# examine the coefficients\n",
    "pd.DataFrame(zip(X.columns, np.transpose(model.coef_)))"
   ]
  },
  {
   "cell_type": "markdown",
   "metadata": {},
   "source": [
    "## Using 30% HoldOut"
   ]
  },
  {
   "cell_type": "code",
   "execution_count": 13,
   "metadata": {
    "collapsed": false
   },
   "outputs": [
    {
     "data": {
      "text/plain": [
       "LogisticRegression(C=1.0, class_weight=None, dual=False, fit_intercept=True,\n",
       "          intercept_scaling=1, max_iter=100, multi_class='ovr',\n",
       "          penalty='l2', random_state=None, solver='liblinear', tol=0.0001,\n",
       "          verbose=0)"
      ]
     },
     "execution_count": 13,
     "metadata": {},
     "output_type": "execute_result"
    }
   ],
   "source": [
    "# evaluate the model by splitting into train and test sets\n",
    "X_train, X_test, y_train, y_test = train_test_split(X, y, test_size=0.3, random_state=0)\n",
    "model2 = LogisticRegression()\n",
    "model2.fit(X_train, y_train)"
   ]
  },
  {
   "cell_type": "code",
   "execution_count": 14,
   "metadata": {
    "collapsed": false,
    "scrolled": false
   },
   "outputs": [
    {
     "name": "stdout",
     "output_type": "stream",
     "text": [
      "Accuracy: 0.669438104554\n",
      "AUC: 0.728301007956\n"
     ]
    }
   ],
   "source": [
    "# predict class labels for the test set\n",
    "predicted = model2.predict(X_test)\n",
    "probs = model2.predict_proba(X_test)\n",
    "accuracy = metrics.accuracy_score(y_test, predicted)\n",
    "auc = str(metrics.roc_auc_score(y_test, probs[:, 1]))\n",
    "print 'Accuracy:', accuracy\n",
    "print 'AUC:', auc"
   ]
  },
  {
   "cell_type": "code",
   "execution_count": 17,
   "metadata": {
    "collapsed": false
   },
   "outputs": [
    {
     "name": "stdout",
     "output_type": "stream",
     "text": [
      "             precision    recall  f1-score   support\n",
      "\n",
      "        0.0       0.65      0.74      0.69      9233\n",
      "        1.0       0.69      0.60      0.65      9169\n",
      "\n",
      "avg / total       0.67      0.67      0.67     18402\n",
      "\n"
     ]
    }
   ],
   "source": [
    "from sklearn import metrics\n",
    "print metrics.classification_report(y_test, predicted)"
   ]
  },
  {
   "cell_type": "code",
   "execution_count": 35,
   "metadata": {
    "collapsed": false
   },
   "outputs": [
    {
     "data": {
      "image/png": "[encoded data removed]",
      "text/plain": [
       "<matplotlib.figure.Figure at 0x1134cee50>"
      ]
     },
     "metadata": {},
     "output_type": "display_data"
    }
   ],
   "source": [
    "fpr, tpr, thresh = metrics.roc_curve(y_test, probs[:, 1])\n",
    "plt.plot(fpr, tpr)\n",
    "plt.plot([0,1],[0,1], 'g--')\n",
    "plt.xlabel('FPR')\n",
    "plt.ylabel('TPR')\n",
    "plt.show()"
   ]
  },
  {
   "cell_type": "markdown",
   "metadata": {},
   "source": [
    "## 5-fold Cross Validation"
   ]
  },
  {
   "cell_type": "code",
   "execution_count": 30,
   "metadata": {
    "collapsed": false
   },
   "outputs": [
    {
     "name": "stdout",
     "output_type": "stream",
     "text": [
      "[ 0.68570557  0.74171516  0.76213664  0.70860464  0.61783913]\n",
      "0.703200226992\n"
     ]
    }
   ],
   "source": [
    "scores = cross_val_score(LogisticRegression(), X, y, scoring='roc_auc', cv=5)\n",
    "print scores\n",
    "print scores.mean()"
   ]
  },
  {
   "cell_type": "code",
   "execution_count": 26,
   "metadata": {
    "collapsed": false
   },
   "outputs": [
    {
     "name": "stdout",
     "output_type": "stream",
     "text": [
      "sklearn.cross_validation.KFold(n=61340, n_folds=2, shuffle=False, random_state=None)\n"
     ]
    }
   ],
   "source": [
    "cv = KFold(n=len(X), n_folds=2)\n",
    "print cv"
   ]
  },
  {
   "cell_type": "markdown",
   "metadata": {},
   "source": [
    "# Random Forrest"
   ]
  },
  {
   "cell_type": "code",
   "execution_count": 40,
   "metadata": {
    "collapsed": false
   },
   "outputs": [
    {
     "data": {
      "text/plain": [
       "RandomForestClassifier(bootstrap=True, class_weight=None, criterion='gini',\n",
       "            max_depth=None, max_features='auto', max_leaf_nodes=None,\n",
       "            min_samples_leaf=1, min_samples_split=2,\n",
       "            min_weight_fraction_leaf=0.0, n_estimators=80, n_jobs=1,\n",
       "            oob_score=False, random_state=None, verbose=0,\n",
       "            warm_start=False)"
      ]
     },
     "execution_count": 40,
     "metadata": {},
     "output_type": "execute_result"
    }
   ],
   "source": [
    "X_train, X_test, y_train, y_test = train_test_split(X, y, test_size=0.3)\n",
    "model3 = RandomForestClassifier(n_estimators = 80)\n",
    "model3.fit(X_train, y_train)"
   ]
  },
  {
   "cell_type": "code",
   "execution_count": 41,
   "metadata": {
    "collapsed": false
   },
   "outputs": [
    {
     "name": "stdout",
     "output_type": "stream",
     "text": [
      "Accuracy: 0.973353925609\n",
      "AUC: 0.842593207734\n"
     ]
    }
   ],
   "source": [
    "# predict class labels for the test set\n",
    "predicted = model3.predict(X_test)\n",
    "probs = model3.predict_proba(X_test)\n",
    "accuracy = metrics.accuracy_score(y_test, predicted)\n",
    "auc = str(metrics.roc_auc_score(y_test, probs[:, 1]))\n",
    "print 'Accuracy:', accuracy\n",
    "print 'AUC:', auc"
   ]
  },
  {
   "cell_type": "code",
   "execution_count": 28,
   "metadata": {
    "collapsed": false
   },
   "outputs": [
    {
     "name": "stdout",
     "output_type": "stream",
     "text": [
      "[ 0.79097105  0.82232951  0.82877236  0.8017815   0.7117444 ]\n",
      "0.791119765834\n"
     ]
    }
   ],
   "source": [
    "scores = cross_val_score(RandomForestClassifier(n_estimators = 80), X, y, scoring='roc_auc', cv=5)\n",
    "print scores\n",
    "print scores.mean()"
   ]
  },
  {
   "cell_type": "code",
   "execution_count": 43,
   "metadata": {
    "collapsed": false
   },
   "outputs": [
    {
     "data": {
      "text/plain": [
       "array([[351871,   2091],\n",
       "       [  7588,   1693]])"
      ]
     },
     "execution_count": 43,
     "metadata": {},
     "output_type": "execute_result"
    }
   ],
   "source": [
    "from sklearn.metrics import confusion_matrix\n",
    "confusion_matrix(y_test,predicted)"
   ]
  },
  {
   "cell_type": "code",
   "execution_count": 42,
   "metadata": {
    "collapsed": false
   },
   "outputs": [
    {
     "data": {
      "text/plain": [
       "0.44741014799154333"
      ]
     },
     "execution_count": 42,
     "metadata": {},
     "output_type": "execute_result"
    }
   ],
   "source": [
    "metrics.precision_score(y_test, predicted)"
   ]
  },
  {
   "cell_type": "code",
   "execution_count": 25,
   "metadata": {
    "collapsed": false
   },
   "outputs": [
    {
     "name": "stdout",
     "output_type": "stream",
     "text": [
      "Accuracy: 0.750190196718\n",
      "AUC: 0.826044669444\n"
     ]
    },
    {
     "data": {
      "image/png": "[encoded data removed]",
      "text/plain": [
       "<matplotlib.figure.Figure at 0x113c87710>"
      ]
     },
     "metadata": {},
     "output_type": "display_data"
    }
   ],
   "source": [
    "X_train, X_test, y_train, y_test = train_test_split(X, y, test_size=0.3, random_state=0)\n",
    "model2 = RandomForestClassifier(n_estimators = 80)\n",
    "model2.fit(X_train, y_train)\n",
    "# predict class labels for the test set\n",
    "predicted = model2.predict(X_test)\n",
    "probs = model2.predict_proba(X_test)\n",
    "accuracy = metrics.accuracy_score(y_test, predicted)\n",
    "auc = str(metrics.roc_auc_score(y_test, probs[:, 1]))\n",
    "print 'Accuracy:', accuracy\n",
    "print 'AUC:', auc\n",
    "fpr, tpr, thresh = metrics.roc_curve(y_test, probs[:, 1])\n",
    "plt.plot(fpr, tpr)\n",
    "plt.plot([0,1],[0,1], 'g--')\n",
    "plt.xlabel('FPR')\n",
    "plt.ylabel('TPR')\n",
    "plt.show()"
   ]
  },
  {
   "cell_type": "code",
   "execution_count": null,
   "metadata": {
    "collapsed": true
   },
   "outputs": [],
   "source": []
  }
 ],
 "metadata": {
  "kernelspec": {
   "display_name": "Python 2",
   "language": "python",
   "name": "python2"
  },
  "language_info": {
   "codemirror_mode": {
    "name": "ipython",
    "version": 2
   },
   "file_extension": ".py",
   "mimetype": "text/x-python",
   "name": "python",
   "nbconvert_exporter": "python",
   "pygments_lexer": "ipython2",
   "version": "2.7.10"
  }
 },
 "nbformat": 4,
 "nbformat_minor": 0
}
