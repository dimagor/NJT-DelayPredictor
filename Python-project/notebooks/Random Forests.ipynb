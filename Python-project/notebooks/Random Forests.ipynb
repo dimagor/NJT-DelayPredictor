{
 "cells": [
  {
   "cell_type": "code",
   "execution_count": 1,
   "metadata": {
    "collapsed": true
   },
   "outputs": [],
   "source": [
    "%matplotlib inline\n",
    "import pandas as pd\n",
    "import numpy as np\n",
    "import matplotlib.pyplot as plt\n",
    "from sklearn.cross_validation import train_test_split, cross_val_score, KFold\n",
    "from sklearn.ensemble import RandomForestClassifier\n",
    "from sklearn import metrics\n",
    "from patsy import dmatrices"
   ]
  },
  {
   "cell_type": "code",
   "execution_count": 2,
   "metadata": {
    "collapsed": true
   },
   "outputs": [],
   "source": [
    "df = pd.read_csv(\"../../data/njt_features.csv\")"
   ]
  },
  {
   "cell_type": "code",
   "execution_count": 3,
   "metadata": {
    "collapsed": true
   },
   "outputs": [],
   "source": [
    "keep_columns = ['is_delayed','dep_hour', 'ttl_line', 'ttl_dep_line', 'Visibility', 'Temp_F',\n",
    "                'WindSpeed', 'HourlyPrecip', 'Line','dep_wday', 'Scheduled_Departure_Terminal',]\n",
    "feat = df[keep_columns].dropna()"
   ]
  },
  {
   "cell_type": "code",
   "execution_count": 18,
   "metadata": {
    "collapsed": false
   },
   "outputs": [
    {
     "name": "stdout",
     "output_type": "stream",
     "text": [
      "ACES_AC_EXPRE\n",
      "ATLANTIC_CITY\n",
      "BERGEN\n",
      "BOONTON\n",
      "COAST\n",
      "CORRIDOR\n",
      "DOVER\n",
      "GLADSTONE\n",
      "MAIN\n",
      "MONTCLAIR\n",
      "PASCACK\n",
      "RARITAN\n",
      "S._TIER\n",
      "SUMMIT\n",
      "WALDWICK\n"
     ]
    }
   ],
   "source": [
    "for l in feat['Line'].unique(): "
   ]
  },
  {
   "cell_type": "code",
   "execution_count": null,
   "metadata": {
    "collapsed": true
   },
   "outputs": [],
   "source": []
  }
 ],
 "metadata": {
  "kernelspec": {
   "display_name": "Python 2",
   "language": "python",
   "name": "python2"
  },
  "language_info": {
   "codemirror_mode": {
    "name": "ipython",
    "version": 2
   },
   "file_extension": ".py",
   "mimetype": "text/x-python",
   "name": "python",
   "nbconvert_exporter": "python",
   "pygments_lexer": "ipython2",
   "version": "2.7.10"
  }
 },
 "nbformat": 4,
 "nbformat_minor": 0
}
